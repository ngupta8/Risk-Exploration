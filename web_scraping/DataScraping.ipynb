{
 "cells": [
  {
   "cell_type": "code",
   "execution_count": 1,
   "metadata": {},
   "outputs": [],
   "source": [
    "import os\n",
    "import time\n",
    "\n",
    "from selenium import webdriver\n",
    "from selenium.webdriver.common.keys import Keys\n",
    "import pandas as pd\n",
    "import pickle\n",
    "chromedriver = \"/Applications/chromedriver\" # path to the chromedriver executable\n",
    "os.environ[\"webdriver.chrome.driver\"] = chromedriver"
   ]
  },
  {
   "cell_type": "code",
   "execution_count": 3,
   "metadata": {},
   "outputs": [],
   "source": [
    "def fetch_data(stock_tkr):\n",
    "    url = 'https://finance.yahoo.com/quote/'+stock_tkr+'/history?period1=1390636800&period2=1548403200&interval=1d&filter=history&frequency=1d'\n",
    "    driver = webdriver.Chrome(chromedriver)\n",
    "    driver.get(url)\n",
    "    first_elem = driver.find_element_by_xpath('//*[@id=\"atomic\"]')\n",
    "    data_table = None\n",
    "    rows = None\n",
    "    prev_rows = 0\n",
    "    while True:\n",
    "        first_elem.send_keys(Keys.PAGE_DOWN)\n",
    "        time.sleep(2)\n",
    "        data_table = driver.find_element_by_xpath('//*[@id=\"Col1-1-HistoricalDataTable-Proxy\"]/section/div[2]')\n",
    "        data = data_table.find_element_by_tag_name('tbody')\n",
    "        rows = data.find_elements_by_tag_name('tr')\n",
    "        curr_rows = len(rows)\n",
    "        if curr_rows == prev_rows and count == 10:\n",
    "            break\n",
    "        elif curr_rows != prev_rows:\n",
    "            count = 0\n",
    "        prev_rows = curr_rows\n",
    "        count += 1\n",
    "    return data_table\n",
    "\n",
    "def get_headers(data):\n",
    "    head = data.find_element_by_tag_name('thead')\n",
    "    head_line = head.find_element_by_tag_name('tr')\n",
    "    headers = head_line.find_elements_by_tag_name('th')\n",
    "    headers = [h.text for h in headers]\n",
    "    return headers\n",
    "    \n",
    "def build_dataframe(data, headers):\n",
    "    table = data.find_element_by_tag_name('tbody')\n",
    "    rows = table.find_elements_by_tag_name('tr')\n",
    "    res = []\n",
    "    for row in rows:\n",
    "        res.append(row.text.replace(', ', ':').replace(' ',':',1).split())\n",
    "    return pd.DataFrame(res, columns=headers)\n",
    "\n",
    "cwd = os.getcwd()\n",
    "target_stocks = {'netflix':'NFLX', 'google':'GOOGL', 'apple':'AAPL', 'amazon':'AMZN', 'facebook':'FB', 'sp500':'^GSPC'}\n",
    "for stock in target_stocks:\n",
    "    data = fetch_data(target_stocks[stock])\n",
    "    headers = get_headers(data)\n",
    "    df = build_dataframe(data, headers)\n",
    "    path_pickle = cwd + '/../data/{}.pk'.format(stock)\n",
    "    df.to_pickle(path_pickle)"
   ]
  },
  {
   "cell_type": "code",
   "execution_count": null,
   "metadata": {},
   "outputs": [],
   "source": []
  }
 ],
 "metadata": {
  "kernelspec": {
   "display_name": "Python 3",
   "language": "python",
   "name": "python3"
  },
  "language_info": {
   "codemirror_mode": {
    "name": "ipython",
    "version": 3
   },
   "file_extension": ".py",
   "mimetype": "text/x-python",
   "name": "python",
   "nbconvert_exporter": "python",
   "pygments_lexer": "ipython3",
   "version": "3.7.1"
  }
 },
 "nbformat": 4,
 "nbformat_minor": 2
}
